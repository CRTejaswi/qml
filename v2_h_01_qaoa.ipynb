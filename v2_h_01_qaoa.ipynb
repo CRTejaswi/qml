{
 "cells": [
  {
   "cell_type": "markdown",
   "id": "29476ce7-0550-48ff-a33b-e2a25ad1ef1d",
   "metadata": {},
   "source": [
    "\n",
    "# QAOA\n"
   ]
  },
  {
   "cell_type": "markdown",
   "id": "257d0fa1-582e-4613-92ed-8187fc03794e",
   "metadata": {},
   "source": [
    "\n",
    "## Problem Formulation\n"
   ]
  },
  {
   "cell_type": "code",
   "execution_count": 3,
   "id": "a7879979-d02c-4d30-8de5-44f592963566",
   "metadata": {},
   "outputs": [
    {
     "name": "stdout",
     "output_type": "stream",
     "text": [
      "[[0.-1.j 0.+0.j 0.+0.j 0.+0.j]\n",
      " [0.+0.j 0.+1.j 0.+0.j 0.+0.j]\n",
      " [0.+0.j 0.+0.j 0.+1.j 0.+0.j]\n",
      " [0.+0.j 0.+0.j 0.+0.j 0.-1.j]]\n"
     ]
    }
   ],
   "source": [
    "from qiskit import Aer, QuantumRegister, ClassicalRegister, QuantumCircuit, execute\n",
    "from qiskit.visualization import plot_histogram, plot_bloch_multivector\n",
    "from math import pi\n",
    "\n",
    "backend = Aer.get_backend('unitary_simulator')\n",
    "\n",
    "# Create a quantum circuit with one qubit\n",
    "qc = QuantumCircuit(2)\n",
    "\n",
    "qc.rzz(pi, 0,1)\n",
    "result = execute(qc,backend).result()\n",
    "\n",
    "print(result.get_unitary(qc,2).data)\n",
    "#CAPTION Show the matrix of the rzz gate"
   ]
  },
  {
   "cell_type": "code",
   "execution_count": 5,
   "id": "59fb24ee-80d9-49b6-beb1-6c2dceb19713",
   "metadata": {},
   "outputs": [
    {
     "name": "stdout",
     "output_type": "stream",
     "text": [
      "[[0.+1.j 0.+0.j 0.+0.j 0.+0.j]\n",
      " [0.+0.j 0.-1.j 0.+0.j 0.+0.j]\n",
      " [0.+0.j 0.+0.j 0.-1.j 0.+0.j]\n",
      " [0.+0.j 0.+0.j 0.+0.j 0.+1.j]]\n"
     ]
    }
   ],
   "source": [
    "qc = QuantumCircuit(2)\n",
    "qc.rzz(-pi, 0,1)\n",
    "result = execute(qc,backend).result()\n",
    "print(result.get_unitary(qc,2).data)\n",
    "#CAPTION Show the matrix of the rzz gate with flipped theta"
   ]
  },
  {
   "cell_type": "code",
   "execution_count": 6,
   "id": "53dcc148-c5a4-40fc-bb95-e50256f1a8af",
   "metadata": {},
   "outputs": [
    {
     "name": "stdout",
     "output_type": "stream",
     "text": [
      "[[1.+0.j 0.+0.j 0.+0.j 0.+0.j]\n",
      " [0.+0.j 0.+1.j 0.+0.j 0.+0.j]\n",
      " [0.+0.j 0.+0.j 1.+0.j 0.+0.j]\n",
      " [0.+0.j 0.+0.j 0.+0.j 0.-1.j]]\n"
     ]
    }
   ],
   "source": [
    "qc = QuantumCircuit(2)\n",
    "qc.crz(-pi, 0,1)\n",
    "result = execute(qc,backend).result()\n",
    "print(result.get_unitary(qc,2).data)\n",
    "#CAPTION Show the matrix of the rzz gate with flipped theta"
   ]
  },
  {
   "cell_type": "code",
   "execution_count": 7,
   "id": "bf1f8e07-3bb7-4cf0-a5d4-6dd79b997397",
   "metadata": {},
   "outputs": [
    {
     "name": "stdout",
     "output_type": "stream",
     "text": [
      "[[0.+1.j 0.+0.j 0.+0.j 0.+0.j]\n",
      " [0.+0.j 0.-1.j 0.+0.j 0.+0.j]\n",
      " [0.+0.j 0.+0.j 0.-1.j 0.+0.j]\n",
      " [0.+0.j 0.+0.j 0.+0.j 0.+1.j]]\n"
     ]
    }
   ],
   "source": [
    "qc = QuantumCircuit(2)\n",
    "qc.cx(0,1)\n",
    "qc.rz(-pi, 1)\n",
    "qc.cx(0,1)\n",
    "result = execute(qc,backend).result()\n",
    "print(result.get_unitary(qc,2).data)\n",
    "#CAPTION Calculate the tensor product using a quantum circuit"
   ]
  },
  {
   "cell_type": "code",
   "execution_count": 9,
   "id": "d898a04b-a53e-4e99-b295-d0b6f361f08f",
   "metadata": {
    "output_img": "A simple graph",
    "tags": []
   },
   "outputs": [
    {
     "data": {
      "image/png": "[encoded data removed]",
      "text/plain": [
       "<Figure size 576x180 with 1 Axes>"
      ]
     },
     "metadata": {},
     "output_type": "display_data"
    }
   ],
   "source": [
    "import networkx as nx\n",
    "graph = nx.Graph()\n",
    "graph.add_nodes_from([0, 1, 2])\n",
    "graph.add_edges_from([(0, 1), (1, 2)])\n",
    "#nx.draw(graph, with_labels=True, alpha=0.8, node_size=1500)\n",
    "#CAPTION Draw the simple graph\n",
    "\n",
    "plt.figure(1,figsize=(8,2.5)) \n",
    "plt.tight_layout()\n",
    "plt.subplots_adjust(bottom=-.5, right=0.5, left=-.5)\n",
    "#print(ax)\n",
    "#def nudge(pos, x_shift, y_shift):\n",
    "#    return {n:(x + x_shift, y + y_shift) for n,(x,y) in pos.items()}\n",
    "\n",
    "pos = nx.spring_layout(graph)\n",
    "\n",
    "nx.draw_networkx_nodes(graph, pos=pos, node_color=\"#ABABAB\", node_size=800)   # default nodes and edges\n",
    "nx.draw_networkx_edges(graph, pos, width=4, edge_color =\"#CDCDCD\")\n",
    "labels=nx.draw_networkx_labels(graph,pos=pos, font_color=\"#000\", font_size=44)\n",
    "plt.show()"
   ]
  },
  {
   "cell_type": "code",
   "execution_count": 11,
   "id": "94a03c37-fb26-4e4c-afa1-b6add607dce9",
   "metadata": {
    "output_img": "The problem formulation",
    "tags": []
   },
   "outputs": [
    {
     "data": {
      "text/html": [
       "<pre style=\"word-wrap: normal;white-space: pre;background: #fff0;line-height: 1.1;font-family: &quot;Courier New&quot;,Courier,monospace\">                  ░              ░ \n",
       "q_0: ─■───────────░──────────────░─\n",
       "      │ZZ(gamma)  ░              ░ \n",
       "q_1: ─■───────────░──■───────────░─\n",
       "                  ░  │ZZ(gamma)  ░ \n",
       "q_2: ─────────────░──■───────────░─\n",
       "                  ░              ░ </pre>"
      ],
      "text/plain": [
       "                  ░              ░ \n",
       "q_0: ─■───────────░──────────────░─\n",
       "      │ZZ(gamma)  ░              ░ \n",
       "q_1: ─■───────────░──■───────────░─\n",
       "                  ░  │ZZ(gamma)  ░ \n",
       "q_2: ─────────────░──■───────────░─\n",
       "                  ░              ░ "
      ]
     },
     "execution_count": 11,
     "metadata": {},
     "output_type": "execute_result"
    }
   ],
   "source": [
    "from qiskit.circuit import Parameter\n",
    "\n",
    "def problem_circuit(graph, gamma):\n",
    "    \n",
    "    qc_p = QuantumCircuit(len(graph.nodes()))\n",
    "    for edge in list(graph.edges()):\n",
    "        qc_p.rzz(gamma, edge[0], edge[1])\n",
    "        qc_p.barrier()\n",
    "    \n",
    "    return qc_p\n",
    "\n",
    "gamma = Parameter(\"gamma\")\n",
    "qc_p = problem_circuit(graph, gamma)\n",
    "qc_p.draw()\n",
    "#CAPTION The problem formulation"
   ]
  },
  {
   "cell_type": "markdown",
   "id": "a14e1c66-fd2b-4ca2-9b9f-64a5f8b9cd33",
   "metadata": {},
   "source": [
    "## The Ansatz \n"
   ]
  },
  {
   "cell_type": "code",
   "execution_count": 12,
   "id": "1e3836d0-2a17-4df0-8567-1bcfa3a4a51d",
   "metadata": {
    "output_img": "The ansatz",
    "tags": []
   },
   "outputs": [
    {
     "data": {
      "text/html": [
       "<pre style=\"word-wrap: normal;white-space: pre;background: #fff0;line-height: 1.1;font-family: &quot;Courier New&quot;,Courier,monospace\">     ┌──────────┐\n",
       "q_0: ┤ Rx(beta) ├\n",
       "     ├──────────┤\n",
       "q_1: ┤ Rx(beta) ├\n",
       "     ├──────────┤\n",
       "q_2: ┤ Rx(beta) ├\n",
       "     └──────────┘</pre>"
      ],
      "text/plain": [
       "     ┌──────────┐\n",
       "q_0: ┤ Rx(beta) ├\n",
       "     ├──────────┤\n",
       "q_1: ┤ Rx(beta) ├\n",
       "     ├──────────┤\n",
       "q_2: ┤ Rx(beta) ├\n",
       "     └──────────┘"
      ]
     },
     "execution_count": 12,
     "metadata": {},
     "output_type": "execute_result"
    }
   ],
   "source": [
    "def ansatz_circuit(graph, beta):\n",
    "    qc_a = QuantumCircuit(len(graph.nodes()))\n",
    "    for i in range(len(graph.nodes())):\n",
    "        qc_a.rx(beta, i)\n",
    "    \n",
    "    return qc_a\n",
    "\n",
    "beta = Parameter(\"beta\")\n",
    "ansatz_circuit(graph, beta).draw()\n",
    "#CAPTION The ansatz"
   ]
  },
  {
   "cell_type": "markdown",
   "id": "9c77a710-44c8-413c-9be8-55c065218e8d",
   "metadata": {},
   "source": [
    "## Trial state and QAOA Process\n",
    "\n"
   ]
  },
  {
   "cell_type": "code",
   "execution_count": 13,
   "id": "df3be161-253c-40a0-b549-f857be9b5c41",
   "metadata": {
    "output_img": "The full QAOA circuit",
    "tags": []
   },
   "outputs": [
    {
     "data": {
      "text/html": [
       "<pre style=\"word-wrap: normal;white-space: pre;background: #fff0;line-height: 1.1;font-family: &quot;Courier New&quot;,Courier,monospace\">        ┌─────────┐             ░              ░ ┌──────────┐ ░ ┌─┐      \n",
       "   q_0: ┤ U2(0,π) ├─■───────────░──────────────░─┤ Rx(beta) ├─░─┤M├──────\n",
       "        ├─────────┤ │ZZ(gamma)  ░              ░ ├──────────┤ ░ └╥┘┌─┐   \n",
       "   q_1: ┤ U2(0,π) ├─■───────────░──■───────────░─┤ Rx(beta) ├─░──╫─┤M├───\n",
       "        ├─────────┤             ░  │ZZ(gamma)  ░ ├──────────┤ ░  ║ └╥┘┌─┐\n",
       "   q_2: ┤ U2(0,π) ├─────────────░──■───────────░─┤ Rx(beta) ├─░──╫──╫─┤M├\n",
       "        └─────────┘             ░              ░ └──────────┘ ░  ║  ║ └╥┘\n",
       "meas_0: ═════════════════════════════════════════════════════════╩══╬══╬═\n",
       "                                                                    ║  ║ \n",
       "meas_1: ════════════════════════════════════════════════════════════╩══╬═\n",
       "                                                                       ║ \n",
       "meas_2: ═══════════════════════════════════════════════════════════════╩═\n",
       "                                                                         </pre>"
      ],
      "text/plain": [
       "        ┌─────────┐             ░              ░ ┌──────────┐ ░ ┌─┐      \n",
       "   q_0: ┤ U2(0,π) ├─■───────────░──────────────░─┤ Rx(beta) ├─░─┤M├──────\n",
       "        ├─────────┤ │ZZ(gamma)  ░              ░ ├──────────┤ ░ └╥┘┌─┐   \n",
       "   q_1: ┤ U2(0,π) ├─■───────────░──■───────────░─┤ Rx(beta) ├─░──╫─┤M├───\n",
       "        ├─────────┤             ░  │ZZ(gamma)  ░ ├──────────┤ ░  ║ └╥┘┌─┐\n",
       "   q_2: ┤ U2(0,π) ├─────────────░──■───────────░─┤ Rx(beta) ├─░──╫──╫─┤M├\n",
       "        └─────────┘             ░              ░ └──────────┘ ░  ║  ║ └╥┘\n",
       "meas_0: ═════════════════════════════════════════════════════════╩══╬══╬═\n",
       "                                                                    ║  ║ \n",
       "meas_1: ════════════════════════════════════════════════════════════╩══╬═\n",
       "                                                                       ║ \n",
       "meas_2: ═══════════════════════════════════════════════════════════════╩═\n",
       "                                                                         "
      ]
     },
     "execution_count": 13,
     "metadata": {},
     "output_type": "execute_result"
    }
   ],
   "source": [
    "def get_circuit(graph, beta, gamma):\n",
    "    cnt_qubits = len(graph.nodes())\n",
    "    qc_qaoa = QuantumCircuit(cnt_qubits)\n",
    "\n",
    "    # initial_state\n",
    "    qc_qaoa.h(range(cnt_qubits))\n",
    "    \n",
    "    # append problem circuit\n",
    "    qc_qaoa.append(problem_circuit(graph, gamma), range(cnt_qubits))\n",
    "    \n",
    "    # append ansatz circuit\n",
    "    qc_qaoa.append(ansatz_circuit(graph, beta), range(cnt_qubits))\n",
    "\n",
    "    qc_qaoa.measure_all()\n",
    "    return qc_qaoa\n",
    "\n",
    "beta = Parameter(\"beta\")\n",
    "gamma = Parameter(\"gamma\")\n",
    "get_circuit(graph, beta, gamma).decompose().draw()\n",
    "#CAPTION The full QAOA circuit"
   ]
  },
  {
   "cell_type": "code",
   "execution_count": 14,
   "id": "d1821d94-9ea5-4244-ac43-944c06d56b20",
   "metadata": {},
   "outputs": [],
   "source": [
    "def get_expectation(counts, graph):\n",
    "    avg = 0\n",
    "    sum_count = 0\n",
    "    for solution, count in counts.items():\n",
    "        performance = 0\n",
    "        for i, j in graph.edges():\n",
    "            if solution[i] != solution[j]:\n",
    "                performance -= 1\n",
    "\n",
    "        avg += performance * count\n",
    "        sum_count += count\n",
    "    return avg/sum_count\n",
    "#CAPTION Calculate the expectation value"
   ]
  },
  {
   "cell_type": "code",
   "execution_count": 15,
   "id": "d90a0ba3-06f0-4f03-8ee1-7f6519f9b132",
   "metadata": {},
   "outputs": [
    {
     "name": "stdout",
     "output_type": "stream",
     "text": [
      "     fun: -1.585\n",
      "   maxcv: 0.0\n",
      " message: 'Optimization terminated successfully.'\n",
      "    nfev: 29\n",
      "  status: 1\n",
      " success: True\n",
      "       x: array([2.24035735, 0.85438756])\n"
     ]
    }
   ],
   "source": [
    "from scipy.optimize import minimize\n",
    "from qiskit.visualization import plot_histogram\n",
    "\n",
    "def calculate_circ(graph, beta, gamma, backend, shots):\n",
    "    qc = get_circuit(graph, beta, gamma)\n",
    "    result = execute(qc,backend, shots=shots).result()\n",
    "    return get_expectation(result.get_counts(), graph)\n",
    "\n",
    "    \n",
    "def qaoa(graph):\n",
    "    backend = Aer.get_backend('qasm_simulator')\n",
    "    \n",
    "    result = minimize(\n",
    "        # callable function\n",
    "        lambda thetas: calculate_circ(graph, thetas[0], thetas[1], backend, 1000),\n",
    "        \n",
    "        # initial guess on beta and gamma\n",
    "        [1.0, 1.0],\n",
    "        \n",
    "        # optimization method\n",
    "        method='COBYLA')\n",
    "    \n",
    "    return result\n",
    "    \n",
    "result = qaoa(graph)\n",
    "print(result)\n",
    "#CAPTION Run the QAOA"
   ]
  },
  {
   "cell_type": "code",
   "execution_count": 16,
   "id": "4e7b8490-ee9e-438f-8622-369cd22997a3",
   "metadata": {
    "output_img": "The results of the best performing circuit",
    "tags": []
   },
   "outputs": [
    {
     "data": {
      "image/png": "[encoded data removed]",
      "text/plain": [
       "<Figure size 504x360 with 1 Axes>"
      ]
     },
     "execution_count": 16,
     "metadata": {},
     "output_type": "execute_result"
    }
   ],
   "source": [
    "qc_res = get_circuit(graph, result.x[0], result.x[1])\n",
    "counts = execute(qc_res, Aer.get_backend('qasm_simulator'), shots=1000).result().get_counts()\n",
    "plot_histogram(counts)\n",
    "#CAPTION Visualizing the final circuit"
   ]
  },
  {
   "cell_type": "markdown",
   "id": "236373c9-2499-468b-8935-ed0cd3add59d",
   "metadata": {},
   "source": [
    "## Using Qiskit\n"
   ]
  },
  {
   "cell_type": "code",
   "execution_count": 17,
   "id": "5da59c2d-2296-47c0-88be-d4d5f13a3edc",
   "metadata": {},
   "outputs": [],
   "source": [
    "import pandas as pd\n",
    "import networkx as nx\n",
    "from qiskit_optimization.applications import Maxcut\n",
    "from qiskit.utils import QuantumInstance\n",
    "from qiskit import Aer\n",
    "\n",
    "data = pd.read_csv('./data/hero-network.csv')\n",
    "\n",
    "heroes = {\n",
    "    'MEDUSA/MEDUSALITH AM',\n",
    "    'ARCLIGHT/PHILLIPA SO',\n",
    "    'WOLVERINE/LOGAN ',\n",
    "    'SCARLET WITCH/WANDA ',\n",
    "    'ARAGORN',\n",
    "    'OVERMIND/GROM',\n",
    "    'BATTLEAXE/',\n",
    "    'ION/',\n",
    "    'PINK PEARL/'\n",
    "}\n",
    "#CAPTION Formulating the problem, part 1"
   ]
  },
  {
   "cell_type": "code",
   "execution_count": 18,
   "id": "b05f76b9-7213-4d53-b059-5a191d9d2065",
   "metadata": {},
   "outputs": [],
   "source": [
    "relations = data[(data.hero1.isin(heroes)) & (data.hero2.isin(heroes))]\n",
    "relations = pd.DataFrame(np.sort(relations.values, axis=1), columns=relations.columns).drop_duplicates(subset=['hero1', 'hero2'])\n",
    "\n",
    "graph = nx.from_pandas_edgelist(relations, source='hero1', target='hero2')\n",
    "matrix = nx.to_pandas_adjacency(graph, dtype=int)\n",
    "adjacency = matrix.to_numpy()\n",
    "\n",
    "max_cut = Maxcut(adjacency)\n",
    "\n",
    "qp = max_cut.to_quadratic_program()\n",
    "qubitOp, offset = qp.to_ising()\n",
    "\n",
    "backend = Aer.get_backend(\"statevector_simulator\")\n",
    "\n",
    "quantum_instance = QuantumInstance(backend)\n",
    "#CAPTION Formulating the problem, part 2"
   ]
  },
  {
   "cell_type": "code",
   "execution_count": 19,
   "id": "a762de02-d28a-43a4-97d7-f2b49f7c6e28",
   "metadata": {},
   "outputs": [
    {
     "data": {
      "text/plain": [
       "<MinimumEigenOptimizationResult: fval=9.0, x_0=1.0, x_1=0.0, x_2=0.0, x_3=0.0, x_4=0.0, x_5=1.0, x_6=1.0, x_7=0.0, x_8=0.0, status=SUCCESS>"
      ]
     },
     "execution_count": 19,
     "metadata": {},
     "output_type": "execute_result"
    }
   ],
   "source": [
    "from qiskit.algorithms import QAOA\n",
    "from qiskit_optimization.algorithms import MinimumEigenOptimizer\n",
    "\n",
    "qaoa = QAOA(quantum_instance=quantum_instance)\n",
    "\n",
    "# create minimum eigen optimizer based on qaoa\n",
    "qaoa_optimizer = MinimumEigenOptimizer(qaoa)\n",
    "\n",
    "# solve quadratic program\n",
    "qaoa_optimizer.solve(qp)\n",
    "#CAPTION The Qiskit QAOA implementation"
   ]
  }
 ],
 "metadata": {
  "kernelspec": {
   "display_name": "Python 3",
   "language": "python",
   "name": "python3"
  },
  "language_info": {
   "codemirror_mode": {
    "name": "ipython",
    "version": 3
   },
   "file_extension": ".py",
   "mimetype": "text/x-python",
   "name": "python",
   "nbconvert_exporter": "python",
   "pygments_lexer": "ipython3",
   "version": "3.9.2"
  }
 },
 "nbformat": 4,
 "nbformat_minor": 5
}
