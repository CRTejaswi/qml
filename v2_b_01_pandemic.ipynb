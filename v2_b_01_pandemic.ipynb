{
 "cells": [
  {
   "cell_type": "markdown",
   "id": "5ada6ab1-8ca5-4b49-9049-7a326ac26061",
   "metadata": {},
   "source": [
    "# The Pandemic\n",
    "\n",
    "\n",
    "## Look at the data"
   ]
  },
  {
   "cell_type": "code",
   "execution_count": 3,
   "id": "54f0946d-c775-4e4e-818a-aec532d3fa67",
   "metadata": {},
   "outputs": [],
   "source": [
    "import pandas as pd\n",
    "data = pd.read_csv('./data/hero-network.csv')"
   ]
  },
  {
   "cell_type": "code",
   "execution_count": 4,
   "id": "dca1fd2e-4834-40e4-a1de-9d0ba1d15ba5",
   "metadata": {},
   "outputs": [
    {
     "name": "stdout",
     "output_type": "stream",
     "text": [
      "<class 'pandas.core.frame.DataFrame'>\n",
      "RangeIndex: 574467 entries, 0 to 574466\n",
      "Data columns (total 2 columns):\n",
      " #   Column  Non-Null Count   Dtype \n",
      "---  ------  --------------   ----- \n",
      " 0   hero1   574467 non-null  object\n",
      " 1   hero2   574467 non-null  object\n",
      "dtypes: object(2)\n",
      "memory usage: 8.8+ MB\n"
     ]
    }
   ],
   "source": [
    "data.info()\n"
   ]
  },
  {
   "cell_type": "markdown",
   "id": "dfa0a821-8c0c-4b2a-b8b4-0bdf38e3e7e2",
   "metadata": {},
   "source": [
    "It has more than half a million connections. So, it is not an exaggeration to speak of a universe of superheroes. Let's take a first glimpse."
   ]
  },
  {
   "cell_type": "code",
   "execution_count": 5,
   "id": "983ecf75-3622-4f07-ad83-33caf1e61e10",
   "metadata": {
    "tags": [
     "Raw"
    ]
   },
   "outputs": [
    {
     "data": {
      "text/html": [
       "<div>\n",
       "<style scoped>\n",
       "    .dataframe tbody tr th:only-of-type {\n",
       "        vertical-align: middle;\n",
       "    }\n",
       "\n",
       "    .dataframe tbody tr th {\n",
       "        vertical-align: top;\n",
       "    }\n",
       "\n",
       "    .dataframe thead th {\n",
       "        text-align: right;\n",
       "    }\n",
       "</style>\n",
       "<table border=\"1\" class=\"dataframe\">\n",
       "  <thead>\n",
       "    <tr style=\"text-align: right;\">\n",
       "      <th></th>\n",
       "      <th>hero1</th>\n",
       "      <th>hero2</th>\n",
       "    </tr>\n",
       "  </thead>\n",
       "  <tbody>\n",
       "    <tr>\n",
       "      <th>0</th>\n",
       "      <td>LITTLE, ABNER</td>\n",
       "      <td>PRINCESS ZANDA</td>\n",
       "    </tr>\n",
       "    <tr>\n",
       "      <th>1</th>\n",
       "      <td>LITTLE, ABNER</td>\n",
       "      <td>BLACK PANTHER/T'CHAL</td>\n",
       "    </tr>\n",
       "    <tr>\n",
       "      <th>2</th>\n",
       "      <td>BLACK PANTHER/T'CHAL</td>\n",
       "      <td>PRINCESS ZANDA</td>\n",
       "    </tr>\n",
       "    <tr>\n",
       "      <th>3</th>\n",
       "      <td>LITTLE, ABNER</td>\n",
       "      <td>PRINCESS ZANDA</td>\n",
       "    </tr>\n",
       "    <tr>\n",
       "      <th>4</th>\n",
       "      <td>LITTLE, ABNER</td>\n",
       "      <td>BLACK PANTHER/T'CHAL</td>\n",
       "    </tr>\n",
       "  </tbody>\n",
       "</table>\n",
       "</div>"
      ],
      "text/plain": [
       "                  hero1                 hero2\n",
       "0         LITTLE, ABNER        PRINCESS ZANDA\n",
       "1         LITTLE, ABNER  BLACK PANTHER/T'CHAL\n",
       "2  BLACK PANTHER/T'CHAL        PRINCESS ZANDA\n",
       "3         LITTLE, ABNER        PRINCESS ZANDA\n",
       "4         LITTLE, ABNER  BLACK PANTHER/T'CHAL"
      ]
     },
     "execution_count": 5,
     "metadata": {},
     "output_type": "execute_result"
    }
   ],
   "source": [
    "data.head()\n"
   ]
  },
  {
   "cell_type": "code",
   "execution_count": 6,
   "id": "163ae96f-0a6e-4535-9945-f75223f976c7",
   "metadata": {},
   "outputs": [],
   "source": [
    "import networkx as nx\n",
    "graph = nx.from_pandas_edgelist(data, source='hero1', target='hero2')"
   ]
  },
  {
   "cell_type": "code",
   "execution_count": 7,
   "id": "85cb1144-3a20-4894-b35f-4afbb4618a46",
   "metadata": {},
   "outputs": [
    {
     "name": "stdout",
     "output_type": "stream",
     "text": [
      "Name: \n",
      "Type: Graph\n",
      "Number of nodes: 6426\n",
      "Number of edges: 167219\n",
      "Average degree:  52.0445\n"
     ]
    }
   ],
   "source": [
    "print(nx.info(graph))"
   ]
  },
  {
   "cell_type": "code",
   "execution_count": 8,
   "id": "85e8a3ab-724e-429a-b08a-7ecc5355340b",
   "metadata": {},
   "outputs": [
    {
     "name": "stdout",
     "output_type": "stream",
     "text": [
      "Network density: 0.00810031232553549\n"
     ]
    }
   ],
   "source": [
    "print(\"Network density:\", nx.density(graph))"
   ]
  },
  {
   "cell_type": "code",
   "execution_count": 9,
   "id": "f21164df-ceac-4284-88c9-3e70b8bf16b1",
   "metadata": {},
   "outputs": [
    {
     "name": "stdout",
     "output_type": "stream",
     "text": [
      "<class 'pandas.core.frame.DataFrame'>\n",
      "Int64Index: 103 entries, 895 to 573288\n",
      "Data columns (total 2 columns):\n",
      " #   Column  Non-Null Count  Dtype \n",
      "---  ------  --------------  ----- \n",
      " 0   hero1   103 non-null    object\n",
      " 1   hero2   103 non-null    object\n",
      "dtypes: object(2)\n",
      "memory usage: 2.4+ KB\n"
     ]
    }
   ],
   "source": [
    "heroes = {\n",
    "    'MEDUSA/MEDUSALITH AM',\n",
    "    'ARCLIGHT/PHILLIPA SO',\n",
    "    'WOLVERINE/LOGAN ',\n",
    "    'SCARLET WITCH/WANDA ',\n",
    "    'ARAGORN',\n",
    "    'OVERMIND/GROM',\n",
    "    'BATTLEAXE/',\n",
    "    'ION/',\n",
    "    'PINK PEARL/'\n",
    "}\n",
    "\n",
    "relations = data[(data.hero1.isin(heroes)) & (data.hero2.isin(heroes))]\n",
    "\n",
    "relations.info()\n",
    "#CAPTION Creating a sub network"
   ]
  },
  {
   "cell_type": "code",
   "execution_count": 10,
   "id": "6a3496d9-d3c9-4378-9fef-2279246022c2",
   "metadata": {},
   "outputs": [
    {
     "name": "stdout",
     "output_type": "stream",
     "text": [
      "Name: \n",
      "Type: Graph\n",
      "Number of nodes: 9\n",
      "Number of edges: 13\n",
      "Average degree:   2.8889\n",
      "\n",
      "Network density: 0.3611111111111111\n"
     ]
    }
   ],
   "source": [
    "sub_graph = nx.from_pandas_edgelist(relations, source='hero1', target='hero2')\n",
    "print(nx.info(sub_graph))\n",
    "print(\"\\nNetwork density:\", nx.density(sub_graph))"
   ]
  },
  {
   "cell_type": "code",
   "execution_count": 11,
   "id": "45902481-4e1e-4748-acf2-cc2a4ba0edf8",
   "metadata": {},
   "outputs": [
    {
     "data": {
      "image/png": "[encoded data removed]",
      "text/plain": [
       "<Figure size 432x288 with 1 Axes>"
      ]
     },
     "metadata": {},
     "output_type": "display_data"
    }
   ],
   "source": [
    "nx.draw_networkx(sub_graph)\n"
   ]
  },
  {
   "cell_type": "markdown",
   "id": "faef4cc1-0b98-477d-8e30-0eeff4bbe21f",
   "metadata": {},
   "source": [
    "## Analytically Derive Measures\n"
   ]
  },
  {
   "cell_type": "code",
   "execution_count": 12,
   "id": "d0e7556f-042d-4c85-931f-20c2e8bb8ea8",
   "metadata": {},
   "outputs": [
    {
     "name": "stdout",
     "output_type": "stream",
     "text": [
      "Diameter of the subgraph: 4\n"
     ]
    }
   ],
   "source": [
    "print('Diameter of the subgraph: {}'.format(nx.diameter(sub_graph)))\n"
   ]
  },
  {
   "cell_type": "code",
   "execution_count": 13,
   "id": "18921665-1286-4c53-9e90-b6178b7f902e",
   "metadata": {},
   "outputs": [
    {
     "name": "stdout",
     "output_type": "stream",
     "text": [
      "Shortest path between Overmind and ion is:\n",
      "-  OVERMIND/GROM\n",
      "-  SCARLET WITCH/WANDA \n",
      "-  WOLVERINE/LOGAN \n",
      "-  ARCLIGHT/PHILLIPA SO\n",
      "-  ION/\n",
      "With length 5\n"
     ]
    }
   ],
   "source": [
    "overmind_ion_path = nx.shortest_path(\n",
    "    sub_graph, source=\"OVERMIND/GROM\", target=\"ION/\"\n",
    ")\n",
    "print(\"Shortest path between Overmind and ion is:\")\n",
    "for item in overmind_ion_path:\n",
    "    print (\"- \", item)\n",
    "    \n",
    "print(\"With length {}\".format(len(overmind_ion_path)))\n",
    "#CAPTION Calculate the shortest path between two nodes"
   ]
  },
  {
   "cell_type": "code",
   "execution_count": 14,
   "id": "2bdf2084-a37d-4206-863a-5011d5b4196d",
   "metadata": {},
   "outputs": [
    {
     "data": {
      "text/plain": [
       "{'SCARLET WITCH/WANDA ': 3,\n",
       " 'WOLVERINE/LOGAN ': 2,\n",
       " 'MEDUSA/MEDUSALITH AM': 3,\n",
       " 'ARAGORN': 4,\n",
       " 'OVERMIND/GROM': 4,\n",
       " 'ARCLIGHT/PHILLIPA SO': 3,\n",
       " 'ION/': 4,\n",
       " 'BATTLEAXE/': 4,\n",
       " 'PINK PEARL/': 4}"
      ]
     },
     "execution_count": 14,
     "metadata": {},
     "output_type": "execute_result"
    }
   ],
   "source": [
    "nx.eccentricity(sub_graph)"
   ]
  },
  {
   "cell_type": "code",
   "execution_count": 15,
   "id": "44c473dd-f291-472c-bf29-9d435fce11fa",
   "metadata": {},
   "outputs": [
    {
     "data": {
      "text/plain": [
       "{'SCARLET WITCH/WANDA ': 4,\n",
       " 'WOLVERINE/LOGAN ': 3,\n",
       " 'MEDUSA/MEDUSALITH AM': 2,\n",
       " 'ARAGORN': 2,\n",
       " 'OVERMIND/GROM': 2,\n",
       " 'ARCLIGHT/PHILLIPA SO': 4,\n",
       " 'ION/': 3,\n",
       " 'BATTLEAXE/': 3,\n",
       " 'PINK PEARL/': 3}"
      ]
     },
     "execution_count": 15,
     "metadata": {},
     "output_type": "execute_result"
    }
   ],
   "source": [
    "dict(sub_graph.degree(sub_graph.nodes()))"
   ]
  },
  {
   "cell_type": "code",
   "execution_count": 16,
   "id": "16013c21-0fda-4bb1-80ef-f410c4a57632",
   "metadata": {},
   "outputs": [
    {
     "name": "stdout",
     "output_type": "stream",
     "text": [
      "Shortest path between Scarlet and Arclight is:\n",
      "-  SCARLET WITCH/WANDA \n",
      "-  WOLVERINE/LOGAN \n",
      "-  ARCLIGHT/PHILLIPA SO\n",
      "With length 3\n"
     ]
    }
   ],
   "source": [
    "scarlet_arclight_path = nx.shortest_path(\n",
    "    sub_graph, source=\"SCARLET WITCH/WANDA \", target=\"ARCLIGHT/PHILLIPA SO\"\n",
    ")\n",
    "print(\"Shortest path between Scarlet and Arclight is:\")\n",
    "for item in scarlet_arclight_path:\n",
    "    print (\"- \", item)\n",
    "    \n",
    "print(\"With length {}\".format(len(scarlet_arclight_path)))\n",
    "#CAPTION Calculate the shortest path between two hubs"
   ]
  },
  {
   "cell_type": "code",
   "execution_count": 17,
   "id": "334ee099-7ddb-40d9-90cd-36bcfedf884e",
   "metadata": {},
   "outputs": [
    {
     "data": {
      "text/plain": [
       "{'SCARLET WITCH/WANDA ': 0.42857142857142855,\n",
       " 'WOLVERINE/LOGAN ': 0.5714285714285714,\n",
       " 'MEDUSA/MEDUSALITH AM': 0.0,\n",
       " 'ARAGORN': 0.0,\n",
       " 'OVERMIND/GROM': 0.0,\n",
       " 'ARCLIGHT/PHILLIPA SO': 0.5357142857142857,\n",
       " 'ION/': 0.0,\n",
       " 'BATTLEAXE/': 0.0,\n",
       " 'PINK PEARL/': 0.0}"
      ]
     },
     "execution_count": 17,
     "metadata": {},
     "output_type": "execute_result"
    }
   ],
   "source": [
    "nx.betweenness_centrality(sub_graph)"
   ]
  },
  {
   "cell_type": "code",
   "execution_count": 18,
   "id": "8afea55c-86b9-4e34-9bbe-d575dc7e8e31",
   "metadata": {},
   "outputs": [
    {
     "name": "stdout",
     "output_type": "stream",
     "text": [
      "\n",
      "Community: \n",
      "-  SCARLET WITCH/WANDA \n",
      "-  ARAGORN\n",
      "-  OVERMIND/GROM\n",
      "-  WOLVERINE/LOGAN \n",
      "-  MEDUSA/MEDUSALITH AM\n",
      "\n",
      "Community: \n",
      "-  ARCLIGHT/PHILLIPA SO\n",
      "-  BATTLEAXE/\n",
      "-  PINK PEARL/\n",
      "-  ION/\n"
     ]
    }
   ],
   "source": [
    "from networkx.algorithms import community\n",
    "for item in community.greedy_modularity_communities(sub_graph):\n",
    "    print(\"\\nCommunity: \")\n",
    "    for hero in item:\n",
    "        print(\"- \", hero)"
   ]
  },
  {
   "cell_type": "code",
   "execution_count": 19,
   "id": "02b9b08f-cc79-461c-b054-950fc7093078",
   "metadata": {},
   "outputs": [
    {
     "data": {
      "text/plain": [
       "{'SCARLET WITCH/WANDA ': 0,\n",
       " 'ARAGORN': 0,\n",
       " 'OVERMIND/GROM': 0,\n",
       " 'WOLVERINE/LOGAN ': 0,\n",
       " 'MEDUSA/MEDUSALITH AM': 0,\n",
       " 'ARCLIGHT/PHILLIPA SO': 1,\n",
       " 'BATTLEAXE/': 1,\n",
       " 'PINK PEARL/': 1,\n",
       " 'ION/': 1}"
      ]
     },
     "execution_count": 19,
     "metadata": {},
     "output_type": "execute_result"
    }
   ],
   "source": [
    "modularity_dict = {}\n",
    "\n",
    "for i,c in enumerate(community.greedy_modularity_communities(sub_graph)):\n",
    "    for name in c: \n",
    "        modularity_dict[name] = i \n",
    "\n",
    "modularity_dict"
   ]
  },
  {
   "cell_type": "code",
   "execution_count": 20,
   "id": "a19a1e3a-3a4a-463c-b005-f008da3f049e",
   "metadata": {},
   "outputs": [
    {
     "name": "stdout",
     "output_type": "stream",
     "text": [
      "Name: \n",
      "Type: Graph\n",
      "Number of nodes: 5\n",
      "Number of edges: 6\n",
      "Average degree:   2.4000\n",
      "\n",
      "Network density: 0.6 \n",
      "\n",
      "Name: \n",
      "Type: Graph\n",
      "Number of nodes: 4\n",
      "Number of edges: 6\n",
      "Average degree:   3.0000\n",
      "\n",
      "Network density: 1.0\n"
     ]
    }
   ],
   "source": [
    "comm = community.greedy_modularity_communities(sub_graph)\n",
    "\n",
    "l = list(map(lambda c: list(c), comm))\n",
    "\n",
    "k = sub_graph.subgraph(l[0])\n",
    "print(nx.info(k))\n",
    "print(\"\\nNetwork density: {} \\n\".format(nx.density(k)))\n",
    "\n",
    "k2 = sub_graph.subgraph(l[1])\n",
    "print(nx.info(k2))\n",
    "print(\"\\nNetwork density:\", nx.density(k2))\n",
    "#CAPTION Compare subgroups"
   ]
  },
  {
   "cell_type": "code",
   "execution_count": 21,
   "id": "e71cd370-04b5-4bd3-8b7a-6bd9956ce9b9",
   "metadata": {},
   "outputs": [
    {
     "name": "stdout",
     "output_type": "stream",
     "text": [
      "Shortest paths:\n",
      "-  SCARLET WITCH/WANDA  :  1\n",
      "-  WOLVERINE/LOGAN  :  2\n",
      "-  MEDUSA/MEDUSALITH AM :  2\n",
      "-  ARAGORN :  2\n",
      "-  OVERMIND/GROM :  2\n",
      "\n",
      "Connected edges:\n",
      "-  SCARLET WITCH/WANDA  :  4\n",
      "-  WOLVERINE/LOGAN  :  3\n",
      "-  MEDUSA/MEDUSALITH AM :  2\n",
      "-  ARAGORN :  2\n",
      "-  OVERMIND/GROM :  2\n",
      "\n",
      "Betweenness:\n",
      "-  SCARLET WITCH/WANDA  :  0.6666666666666666\n",
      "-  WOLVERINE/LOGAN  :  0.0\n",
      "-  MEDUSA/MEDUSALITH AM :  0.0\n",
      "-  ARAGORN :  0.0\n",
      "-  OVERMIND/GROM :  0.0\n"
     ]
    }
   ],
   "source": [
    "print(\"Shortest paths:\")\n",
    "sp = nx.eccentricity(k)\n",
    "for hero in sp:\n",
    "    print (\"- \", hero, \": \", sp[hero])\n",
    "    \n",
    "ce = dict(sub_graph.degree(k.nodes()))\n",
    "\n",
    "print(\"\\nConnected edges:\")\n",
    "for hero in ce:\n",
    "    print (\"- \", hero, \": \", ce[hero])\n",
    "\n",
    "print(\"\\nBetweenness:\")\n",
    "bet = nx.betweenness_centrality(k)\n",
    "for hero in bet:\n",
    "    print (\"- \", hero, \": \", bet[hero])"
   ]
  },
  {
   "cell_type": "markdown",
   "id": "d0cf6fde-f043-4450-b30f-5d010afe1e65",
   "metadata": {},
   "source": []
  }
 ],
 "metadata": {
  "kernelspec": {
   "display_name": "Python 3",
   "language": "python",
   "name": "python3"
  },
  "language_info": {
   "codemirror_mode": {
    "name": "ipython",
    "version": 3
   },
   "file_extension": ".py",
   "mimetype": "text/x-python",
   "name": "python",
   "nbconvert_exporter": "python",
   "pygments_lexer": "ipython3",
   "version": "3.9.2"
  }
 },
 "nbformat": 4,
 "nbformat_minor": 5
}
