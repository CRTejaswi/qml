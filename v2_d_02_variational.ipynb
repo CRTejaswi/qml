{
 "cells": [
  {
   "cell_type": "markdown",
   "id": "b07c2477-1360-4ba1-8197-7e672be9dcab",
   "metadata": {},
   "source": [
    "## The Expectation Value\n"
   ]
  },
  {
   "cell_type": "code",
   "execution_count": 1,
   "id": "d02bb2bf-171c-4856-aeba-07d957e43a91",
   "metadata": {},
   "outputs": [],
   "source": [
    "def run_circuit(circuit, backend, shots=10000):\n",
    "    result = execute(circuit, backend, shots=shots).result()\n",
    "    counts = result.get_counts()\n",
    "    return (\n",
    "        (counts[\"0\"] if \"0\" in counts.keys() else 0)\n",
    "        - (counts[\"1\"] if \"1\" in counts.keys() else 0)\n",
    "    )/shots\n",
    "    \n",
    "    \n",
    "def expectation(H):\n",
    "    backend = Aer.get_backend('qasm_simulator')\n",
    "    circuits = matrix_decomposition_circuits(H)\n",
    "    \n",
    "    return sum(map(lambda key: run_circuit(circuits[key][0], backend)*circuits[key][1], circuits.keys()))\n",
    "#CAPTION Calculate the expectation value"
   ]
  },
  {
   "cell_type": "markdown",
   "id": "0ea0c2dc-70be-4326-bce4-96ddc36972ec",
   "metadata": {},
   "source": []
  }
 ],
 "metadata": {
  "kernelspec": {
   "display_name": "Python 3",
   "language": "python",
   "name": "python3"
  },
  "language_info": {
   "codemirror_mode": {
    "name": "ipython",
    "version": 3
   },
   "file_extension": ".py",
   "mimetype": "text/x-python",
   "name": "python",
   "nbconvert_exporter": "python",
   "pygments_lexer": "ipython3",
   "version": "3.9.2"
  }
 },
 "nbformat": 4,
 "nbformat_minor": 5
}
