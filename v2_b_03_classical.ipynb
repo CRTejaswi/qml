{
 "cells": [
  {
   "cell_type": "code",
   "execution_count": 1,
   "id": "2bf42f7a-b293-4c49-92d2-356538f5c9e4",
   "metadata": {},
   "outputs": [
    {
     "name": "stderr",
     "output_type": "stream",
     "text": [
      "/usr/local/lib/python3.9/site-packages/pandas/compat/__init__.py:97: UserWarning: Could not import the lzma module. Your installed Python is incomplete. Attempting to use lzma compression will result in a RuntimeError.\n",
      "  warnings.warn(msg)\n"
     ]
    }
   ],
   "source": [
    "import pandas as pd\n",
    "\n",
    "data = pd.read_csv('./data/hero-network.csv')\n",
    "\n",
    "heroes = [\n",
    "    'MEDUSA/MEDUSALITH AM',\n",
    "    'ARCLIGHT/PHILLIPA SO',\n",
    "    'WOLVERINE/LOGAN ',\n",
    "    'SCARLET WITCH/WANDA ',\n",
    "    'ARAGORN',\n",
    "    'OVERMIND/GROM',\n",
    "    'BATTLEAXE/',\n",
    "    'ION/',\n",
    "    'PINK PEARL/'\n",
    "]\n",
    "\n",
    "relations = data[(data.hero1.isin(heroes)) & (data.hero2.isin(heroes))]\n",
    "\n",
    "import matplotlib.pyplot as plt\n",
    "import matplotlib\n",
    "\n",
    "import warnings\n",
    "\n",
    "import pandas as pd\n",
    "from pandas.core.common import SettingWithCopyWarning\n",
    "\n",
    "warnings.simplefilter(action=\"ignore\", category=SettingWithCopyWarning)\n"
   ]
  },
  {
   "cell_type": "markdown",
   "id": "b27e74d4-51ee-499b-b84b-8e7a208bf2f5",
   "metadata": {},
   "source": [
    "## What's the problem again?\n"
   ]
  },
  {
   "cell_type": "code",
   "execution_count": 2,
   "id": "04dda912-0014-453f-8654-fb00ab6cdb26",
   "metadata": {},
   "outputs": [],
   "source": [
    "def maxcut(assigned_nodes, edges):\n",
    "    return sum(edges.apply(\n",
    "        lambda edge: (1-assigned_nodes[edge['hero1']]*assigned_nodes[edge['hero2']])/2,\n",
    "        axis=1))"
   ]
  },
  {
   "cell_type": "code",
   "execution_count": 3,
   "id": "6acae4d5-edf0-43e8-97a1-3f05a49fe6c0",
   "metadata": {},
   "outputs": [
    {
     "name": "stdout",
     "output_type": "stream",
     "text": [
      "<class 'pandas.core.frame.DataFrame'>\n",
      "Int64Index: 13 entries, 895 to 390162\n",
      "Data columns (total 3 columns):\n",
      " #   Column        Non-Null Count  Dtype \n",
      "---  ------        --------------  ----- \n",
      " 0   hero1         13 non-null     object\n",
      " 1   hero2         13 non-null     object\n",
      " 2   check_string  13 non-null     object\n",
      "dtypes: object(3)\n",
      "memory usage: 416.0+ bytes\n"
     ]
    }
   ],
   "source": [
    "edges = relations\n",
    "edges['check_string'] = edges.apply(lambda row: ''.join(sorted([row['hero1'], row['hero2']])), axis=1)\n",
    "edges = edges.drop_duplicates('check_string')\n",
    "edges.info()"
   ]
  },
  {
   "cell_type": "markdown",
   "id": "b994a2f3-d34d-41e0-ae05-1574180c8a0d",
   "metadata": {},
   "source": [
    "\n",
    "## Solving It Classically\n"
   ]
  },
  {
   "cell_type": "code",
   "execution_count": 4,
   "id": "1a86d120-2c31-4663-933a-72ad3c2e04eb",
   "metadata": {},
   "outputs": [
    {
     "data": {
      "text/plain": [
       "{'MEDUSA/MEDUSALITH AM': -1,\n",
       " 'ARCLIGHT/PHILLIPA SO': -1,\n",
       " 'WOLVERINE/LOGAN ': -1,\n",
       " 'SCARLET WITCH/WANDA ': -1,\n",
       " 'ARAGORN': -1,\n",
       " 'OVERMIND/GROM': -1,\n",
       " 'BATTLEAXE/': -1,\n",
       " 'ION/': -1,\n",
       " 'PINK PEARL/': -1}"
      ]
     },
     "execution_count": 4,
     "metadata": {},
     "output_type": "execute_result"
    }
   ],
   "source": [
    "single_group = { name: -1 for name in heroes }\n",
    "single_group"
   ]
  },
  {
   "cell_type": "code",
   "execution_count": 5,
   "id": "dd916d8e-49d1-4811-8efd-38ac39ff1f24",
   "metadata": {},
   "outputs": [
    {
     "data": {
      "text/plain": [
       "0.0"
      ]
     },
     "execution_count": 5,
     "metadata": {},
     "output_type": "execute_result"
    }
   ],
   "source": [
    "maxcut(single_group, edges)"
   ]
  },
  {
   "cell_type": "code",
   "execution_count": 6,
   "id": "038fa3f3-7541-4f7d-ab87-58893752b216",
   "metadata": {},
   "outputs": [
    {
     "data": {
      "text/plain": [
       "{'MEDUSA/MEDUSALITH AM': 1,\n",
       " 'ARCLIGHT/PHILLIPA SO': -1,\n",
       " 'WOLVERINE/LOGAN ': -1,\n",
       " 'SCARLET WITCH/WANDA ': -1,\n",
       " 'ARAGORN': -1,\n",
       " 'OVERMIND/GROM': 1,\n",
       " 'BATTLEAXE/': 1,\n",
       " 'ION/': 1,\n",
       " 'PINK PEARL/': -1}"
      ]
     },
     "execution_count": 6,
     "metadata": {},
     "output_type": "execute_result"
    }
   ],
   "source": [
    "from random import seed, random\n",
    "seed(None)\n",
    "\n",
    "random_groups = { name: -1 if round(random()) == 0 else 1 for name in heroes }\n",
    "random_groups"
   ]
  },
  {
   "cell_type": "code",
   "execution_count": 7,
   "id": "7ed3c39c-8218-4892-baf4-44440fd6091f",
   "metadata": {},
   "outputs": [
    {
     "data": {
      "text/plain": [
       "8.0"
      ]
     },
     "execution_count": 7,
     "metadata": {},
     "output_type": "execute_result"
    }
   ],
   "source": [
    "maxcut(random_groups, edges)"
   ]
  },
  {
   "cell_type": "code",
   "execution_count": 8,
   "id": "669c9c42-3004-4eae-b5b6-13abd39ed700",
   "metadata": {},
   "outputs": [],
   "source": [
    "def search(group, open_heroes):\n",
    "    best = (0, None)\n",
    "    \n",
    "    if len(open_heroes) > 0:\n",
    "        new = dict(group)\n",
    "        new[open_heroes[0]] = new[open_heroes[0]]*(-1)\n",
    "        \n",
    "        result1 = search(group, open_heroes[1:])\n",
    "        result2 = search(new, open_heroes[1:])\n",
    "        \n",
    "        best = result1 if result1[0] > result2[0] else result2\n",
    "    else:\n",
    "        return (maxcut(group, edges), group)\n",
    "            \n",
    "    return best"
   ]
  },
  {
   "cell_type": "code",
   "execution_count": 9,
   "id": "d4521848-3d1e-4274-83c3-a5c650f0c428",
   "metadata": {},
   "outputs": [
    {
     "data": {
      "text/plain": [
       "(9.0,\n",
       " {'MEDUSA/MEDUSALITH AM': 1,\n",
       "  'ARCLIGHT/PHILLIPA SO': 1,\n",
       "  'WOLVERINE/LOGAN ': -1,\n",
       "  'SCARLET WITCH/WANDA ': 1,\n",
       "  'ARAGORN': 1,\n",
       "  'OVERMIND/GROM': -1,\n",
       "  'BATTLEAXE/': 1,\n",
       "  'ION/': -1,\n",
       "  'PINK PEARL/': -1})"
      ]
     },
     "execution_count": 9,
     "metadata": {},
     "output_type": "execute_result"
    }
   ],
   "source": [
    "search(single_group, heroes)"
   ]
  },
  {
   "cell_type": "markdown",
   "id": "845bb6ea-80af-4b49-9452-b2f4d169898f",
   "metadata": {},
   "source": []
  }
 ],
 "metadata": {
  "kernelspec": {
   "display_name": "Python 3",
   "language": "python",
   "name": "python3"
  },
  "language_info": {
   "codemirror_mode": {
    "name": "ipython",
    "version": 3
   },
   "file_extension": ".py",
   "mimetype": "text/x-python",
   "name": "python",
   "nbconvert_exporter": "python",
   "pygments_lexer": "ipython3",
   "version": "3.9.2"
  }
 },
 "nbformat": 4,
 "nbformat_minor": 5
}
